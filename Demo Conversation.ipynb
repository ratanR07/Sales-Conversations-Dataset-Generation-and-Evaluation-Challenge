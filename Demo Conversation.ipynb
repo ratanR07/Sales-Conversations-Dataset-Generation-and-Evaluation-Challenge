{
 "cells": [
  {
   "cell_type": "code",
   "execution_count": 1,
   "id": "3a9eb6b5",
   "metadata": {},
   "outputs": [],
   "source": [
    "import openai\n",
    "import pandas as pd\n",
    "from datetime import datetime\n",
    "import time"
   ]
  },
  {
   "cell_type": "code",
   "execution_count": 14,
   "id": "f416c22b",
   "metadata": {},
   "outputs": [],
   "source": [
    "df=pd.read_csv(\"D:\\AI task\\D__AI task_df.csv\")"
   ]
  },
  {
   "cell_type": "code",
   "execution_count": 22,
   "id": "d92be3fb",
   "metadata": {},
   "outputs": [
    {
     "data": {
      "text/html": [
       "<div>\n",
       "<style scoped>\n",
       "    .dataframe tbody tr th:only-of-type {\n",
       "        vertical-align: middle;\n",
       "    }\n",
       "\n",
       "    .dataframe tbody tr th {\n",
       "        vertical-align: top;\n",
       "    }\n",
       "\n",
       "    .dataframe thead th {\n",
       "        text-align: right;\n",
       "    }\n",
       "</style>\n",
       "<table border=\"1\" class=\"dataframe\">\n",
       "  <thead>\n",
       "    <tr style=\"text-align: right;\">\n",
       "      <th></th>\n",
       "      <th>Speaker</th>\n",
       "      <th>Response</th>\n",
       "      <th>Timestamp</th>\n",
       "    </tr>\n",
       "  </thead>\n",
       "  <tbody>\n",
       "    <tr>\n",
       "      <th>0</th>\n",
       "      <td>Salesman</td>\n",
       "      <td>Hello! I'm excited to introduce you to our lat...</td>\n",
       "      <td>2024-06-13 23:07:44</td>\n",
       "    </tr>\n",
       "    <tr>\n",
       "      <th>1</th>\n",
       "      <td>Customer</td>\n",
       "      <td>I use a basic to-do list app, but it lacks som...</td>\n",
       "      <td>2024-06-13 23:07:44</td>\n",
       "    </tr>\n",
       "    <tr>\n",
       "      <th>2</th>\n",
       "      <td>Salesman</td>\n",
       "      <td>Our product offers advanced features like task...</td>\n",
       "      <td>2024-06-13 23:07:44</td>\n",
       "    </tr>\n",
       "    <tr>\n",
       "      <th>3</th>\n",
       "      <td>Customer</td>\n",
       "      <td>Yes, that sounds great!\\n    Salesman: Great! ...</td>\n",
       "      <td>2024-06-13 23:07:44</td>\n",
       "    </tr>\n",
       "    <tr>\n",
       "      <th>4</th>\n",
       "      <td>Salesman</td>\n",
       "      <td>Can you tell me more about the features you ar...</td>\n",
       "      <td>2024-06-13 23:07:44</td>\n",
       "    </tr>\n",
       "    <tr>\n",
       "      <th>...</th>\n",
       "      <td>...</td>\n",
       "      <td>...</td>\n",
       "      <td>...</td>\n",
       "    </tr>\n",
       "    <tr>\n",
       "      <th>987</th>\n",
       "      <td>Customer</td>\n",
       "      <td>Not at the moment.</td>\n",
       "      <td>2024-06-13 23:21:16</td>\n",
       "    </tr>\n",
       "    <tr>\n",
       "      <th>988</th>\n",
       "      <td>Salesman</td>\n",
       "      <td>Fantastic! I’\\nSalesman: You can start by sign...</td>\n",
       "      <td>2024-06-13 23:21:16</td>\n",
       "    </tr>\n",
       "    <tr>\n",
       "      <th>989</th>\n",
       "      <td>Customer</td>\n",
       "      <td>Thank you! That would be very helpful.</td>\n",
       "      <td>2024-06-13 23:21:16</td>\n",
       "    </tr>\n",
       "    <tr>\n",
       "      <th>990</th>\n",
       "      <td>Salesman</td>\n",
       "      <td>My pleasure! Let's get you set up.</td>\n",
       "      <td>2024-06-13 23:21:16</td>\n",
       "    </tr>\n",
       "    <tr>\n",
       "      <th>991</th>\n",
       "      <td>Customer</td>\n",
       "      <td>Not</td>\n",
       "      <td>2024-06-13 23:21:16</td>\n",
       "    </tr>\n",
       "  </tbody>\n",
       "</table>\n",
       "<p>992 rows × 3 columns</p>\n",
       "</div>"
      ],
      "text/plain": [
       "      Speaker                                           Response  \\\n",
       "0    Salesman  Hello! I'm excited to introduce you to our lat...   \n",
       "1    Customer  I use a basic to-do list app, but it lacks som...   \n",
       "2    Salesman  Our product offers advanced features like task...   \n",
       "3    Customer  Yes, that sounds great!\\n    Salesman: Great! ...   \n",
       "4    Salesman  Can you tell me more about the features you ar...   \n",
       "..        ...                                                ...   \n",
       "987  Customer                                 Not at the moment.   \n",
       "988  Salesman  Fantastic! I’\\nSalesman: You can start by sign...   \n",
       "989  Customer             Thank you! That would be very helpful.   \n",
       "990  Salesman                 My pleasure! Let's get you set up.   \n",
       "991  Customer                                                Not   \n",
       "\n",
       "               Timestamp  \n",
       "0    2024-06-13 23:07:44  \n",
       "1    2024-06-13 23:07:44  \n",
       "2    2024-06-13 23:07:44  \n",
       "3    2024-06-13 23:07:44  \n",
       "4    2024-06-13 23:07:44  \n",
       "..                   ...  \n",
       "987  2024-06-13 23:21:16  \n",
       "988  2024-06-13 23:21:16  \n",
       "989  2024-06-13 23:21:16  \n",
       "990  2024-06-13 23:21:16  \n",
       "991  2024-06-13 23:21:16  \n",
       "\n",
       "[992 rows x 3 columns]"
      ]
     },
     "execution_count": 22,
     "metadata": {},
     "output_type": "execute_result"
    }
   ],
   "source": [
    "df"
   ]
  },
  {
   "cell_type": "code",
   "execution_count": 23,
   "id": "50790760",
   "metadata": {},
   "outputs": [
    {
     "data": {
      "text/plain": [
       "Index(['Speaker', 'Response', 'Timestamp'], dtype='object')"
      ]
     },
     "execution_count": 23,
     "metadata": {},
     "output_type": "execute_result"
    }
   ],
   "source": [
    "df.columns"
   ]
  },
  {
   "cell_type": "code",
   "execution_count": 24,
   "id": "ee7abcd3",
   "metadata": {},
   "outputs": [
    {
     "name": "stdout",
     "output_type": "stream",
     "text": [
      "      Speaker                                           Response  \\\n",
      "50   Salesman  Our product offers advanced features like task...   \n",
      "908  Salesman  Our product offers advanced features like task...   \n",
      "891  Customer  Yes, that sounds great!\\nSalesman: Great! I’ll...   \n",
      "565  Salesman  Can you tell me more about the features you ar...   \n",
      "464  Salesman                 My pleasure! Let's get you set up.   \n",
      "\n",
      "               Timestamp  \n",
      "50   2024-06-13 23:08:55  \n",
      "908  2024-06-13 23:20:29  \n",
      "891  2024-06-13 23:20:29  \n",
      "565  2024-06-13 23:15:54  \n",
      "464  2024-06-13 23:14:12  \n"
     ]
    }
   ],
   "source": [
    "# Print a sample of the dataset to inspect the conversations\n",
    "print(df.sample(5))"
   ]
  },
  {
   "cell_type": "code",
   "execution_count": 25,
   "id": "8befb900",
   "metadata": {},
   "outputs": [],
   "source": [
    "# Example analysis functions (customize as needed)\n",
    "def check_contextual_relevance(response):\n",
    "    # Implement logic to check if the response is relevant\n",
    "    pass\n",
    "\n",
    "def check_coherence_fluency(response):\n",
    "    # Implement logic to check coherence and fluency\n",
    "    pass\n",
    "\n",
    "def check_creativity_engagement(response):\n",
    "    # Implement logic to check creativity and engagement\n",
    "    pass\n",
    "\n",
    "def check_toxicity_bias(response):\n",
    "    # Implement logic to check toxicity and bias\n",
    "    pass\n",
    "\n",
    "def simulate_sales(response):\n",
    "    # Implement logic to estimate if the response results in a sale\n",
    "    pass\n"
   ]
  },
  {
   "cell_type": "code",
   "execution_count": 27,
   "id": "7744fddc",
   "metadata": {},
   "outputs": [],
   "source": [
    "# Apply analysis functions to the dataset\n",
    "df['Contextual Relevance'] = df['Response'].apply(check_contextual_relevance)\n",
    "df['Coherence Fluency'] = df['Response'].apply(check_coherence_fluency)\n",
    "df['Creativity Engagement'] = df['Response'].apply(check_creativity_engagement)\n",
    "df['Toxicity Bias'] = df['Response'].apply(check_toxicity_bias)\n",
    "df['Simulated Sales'] = df['Response'].apply(simulate_sales)\n"
   ]
  },
  {
   "cell_type": "code",
   "execution_count": 29,
   "id": "3ccf3f65",
   "metadata": {},
   "outputs": [
    {
     "name": "stdout",
     "output_type": "stream",
     "text": [
      "    Speaker                                           Response  \\\n",
      "0  Salesman  Hello! I'm excited to introduce you to our lat...   \n",
      "1  Customer  I use a basic to-do list app, but it lacks som...   \n",
      "2  Salesman  Our product offers advanced features like task...   \n",
      "3  Customer  Yes, that sounds great!\\n    Salesman: Great! ...   \n",
      "4  Salesman  Can you tell me more about the features you ar...   \n",
      "5  Customer  Well, I need features that help me track my pr...   \n",
      "6  Salesman  We have just the solution for you! Our product...   \n",
      "7  Customer              That sounds exactly like what I need.   \n",
      "8  Salesman        You can start by signing up on our website.   \n",
      "9  Customer             Thank you! That would be very helpful.   \n",
      "\n",
      "             Timestamp Contextual Relevance Coherence Fluency  \\\n",
      "0  2024-06-13 23:07:44                 None              None   \n",
      "1  2024-06-13 23:07:44                 None              None   \n",
      "2  2024-06-13 23:07:44                 None              None   \n",
      "3  2024-06-13 23:07:44                 None              None   \n",
      "4  2024-06-13 23:07:44                 None              None   \n",
      "5  2024-06-13 23:07:44                 None              None   \n",
      "6  2024-06-13 23:07:44                 None              None   \n",
      "7  2024-06-13 23:07:44                 None              None   \n",
      "8  2024-06-13 23:07:44                 None              None   \n",
      "9  2024-06-13 23:07:44                 None              None   \n",
      "\n",
      "  Creativity Engagement Toxicity Bias Simulated Sales  \n",
      "0                  None          None            None  \n",
      "1                  None          None            None  \n",
      "2                  None          None            None  \n",
      "3                  None          None            None  \n",
      "4                  None          None            None  \n",
      "5                  None          None            None  \n",
      "6                  None          None            None  \n",
      "7                  None          None            None  \n",
      "8                  None          None            None  \n",
      "9                  None          None            None  \n"
     ]
    }
   ],
   "source": [
    "print(df.head(10))"
   ]
  },
  {
   "cell_type": "code",
   "execution_count": 30,
   "id": "9a7c9e0b",
   "metadata": {},
   "outputs": [
    {
     "name": "stdout",
     "output_type": "stream",
     "text": [
      "         Speaker                                           Response  \\\n",
      "count        992                                                992   \n",
      "unique         2                                                 45   \n",
      "top     Salesman  Our product offers advanced features like task...   \n",
      "freq         529                                                 96   \n",
      "\n",
      "                  Timestamp Contextual Relevance Coherence Fluency  \\\n",
      "count                   992                    0                 0   \n",
      "unique                   20                    0                 0   \n",
      "top     2024-06-13 23:21:16                  NaN               NaN   \n",
      "freq                     59                  NaN               NaN   \n",
      "\n",
      "       Creativity Engagement Toxicity Bias Simulated Sales  \n",
      "count                      0             0               0  \n",
      "unique                     0             0               0  \n",
      "top                      NaN           NaN             NaN  \n",
      "freq                     NaN           NaN             NaN  \n"
     ]
    }
   ],
   "source": [
    "# Print the analysis results\n",
    "print(df.describe())\n"
   ]
  },
  {
   "cell_type": "markdown",
   "id": "26ed9597",
   "metadata": {},
   "source": [
    "# End Project"
   ]
  },
  {
   "cell_type": "code",
   "execution_count": null,
   "id": "7a88adcd",
   "metadata": {},
   "outputs": [],
   "source": []
  }
 ],
 "metadata": {
  "kernelspec": {
   "display_name": "Python 3 (ipykernel)",
   "language": "python",
   "name": "python3"
  },
  "language_info": {
   "codemirror_mode": {
    "name": "ipython",
    "version": 3
   },
   "file_extension": ".py",
   "mimetype": "text/x-python",
   "name": "python",
   "nbconvert_exporter": "python",
   "pygments_lexer": "ipython3",
   "version": "3.11.4"
  }
 },
 "nbformat": 4,
 "nbformat_minor": 5
}
